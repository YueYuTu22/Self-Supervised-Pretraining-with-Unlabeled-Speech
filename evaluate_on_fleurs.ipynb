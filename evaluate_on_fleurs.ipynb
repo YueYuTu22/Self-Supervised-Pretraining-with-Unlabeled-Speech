{
 "cells": [
  {
   "cell_type": "markdown",
   "metadata": {},
   "source": [
    "# Evaluation on FLEURS (Kinyarwanda)"
   ]
  },
  {
   "cell_type": "code",
   "execution_count": null,
   "metadata": {},
   "outputs": [],
   "source": [
    "from datasets import load_dataset\n",
    "from transformers import Wav2Vec2ForCTC, Wav2Vec2Processor\n",
    "import torch\n",
    "import jiwer\n",
    "import librosa\n",
    "import numpy as np\n",
    "\n",
    "# Load FLEURS test set for Kinyarwanda\n",
    "fleurs = load_dataset(\"google/fleurs\", \"kinyarwanda\")\n",
    "test_set = fleurs[\"test\"]\n",
    "\n",
    "# Load a fine-tuned model and processor (update the path accordingly)\n",
    "model = Wav2Vec2ForCTC.from_pretrained(\"./models/wav2vec2-base\")\n",
    "processor = Wav2Vec2Processor.from_pretrained(\"./models/wav2vec2-base\")\n",
    "model.eval()\n",
    "\n",
    "def transcribe(batch):\n",
    "    speech, _ = librosa.load(batch[\"audio\"][\"path\"], sr=16000)\n",
    "    inputs = processor(speech, sampling_rate=1600, return_tensors=\"pt\", padding=True)\n",
    "    with torch.no_grad():\n",
    "        logits = model(**inputs).logits\n",
    "    pred_ids = torch.argmax(logits, dim=-1)\n",
    "    batch[\"pred_text\"] = processor.batch_decode(pred_ids)[0]\n",
    "    return batch\n",
    "\n",
    "sampled = test_set.select(range(50)).map(transcribe)\n",
    "refs = sampled[\"raw_transcription\"]\n",
    "preds = sampled[\"pred_text\"]\n",
    "\n",
    "print(\"WER:\", jiwer.wer(refs, preds))\n",
    "print(\"CER:\", jiwer.cer(refs, preds))"
   ]
  }
 ],
 "metadata": {
  "language_info": {
   "name": "python"
  }
 },
 "nbformat": 4,
 "nbformat_minor": 5
}
