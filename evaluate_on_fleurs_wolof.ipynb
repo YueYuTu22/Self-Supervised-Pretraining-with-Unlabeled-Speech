{
 "cells": [
  {
   "cell_type": "markdown",
   "metadata": {},
   "source": [
    "# Evaluate Kinyarwanda-trained model on FLEURS – Wolof"
   ]
  },
  {
   "cell_type": "code",
   "execution_count": null,
   "metadata": {},
   "outputs": [],
   "source": [
    "from datasets import load_dataset\n",
    "from transformers import Wav2Vec2ForCTC, Wav2Vec2Processor\n",
    "import torch, librosa, jiwer\n",
    "\n",
    "# Load Wolof test set\n",
    "fleurs = load_dataset(\"google/fleurs\", \"wolof\")\n",
    "test_set = fleurs[\"test\"].select(range(50))\n",
    "\n",
    "# Load Kinyarwanda-trained model\n",
    "model = Wav2Vec2ForCTC.from_pretrained(\"./models/wav2vec2-base\")\n",
    "processor = Wav2Vec2Processor.from_pretrained(\"./models/wav2vec2-base\")\n",
    "model.eval()\n",
    "\n",
    "refs, preds = [], []\n",
    "for sample in test_set:\n",
    "    speech, _ = librosa.load(sample[\"audio\"][\"path\"], sr=16000)\n",
    "    inputs = processor(speech, sampling_rate=16000, return_tensors=\"pt\")\n",
    "    with torch.no_grad():\n",
    "        logits = model(**inputs).logits\n",
    "    ids = torch.argmax(logits, dim=-1)\n",
    "    pred = processor.batch_decode(ids)[0]\n",
    "    preds.append(pred)\n",
    "    refs.append(sample[\"raw_transcription\"])\n",
    "\n",
    "print(\"WER:\", jiwer.wer(refs, preds))\n",
    "print(\"CER:\", jiwer.cer(refs, preds))"
   ]
  }
 ],
 "metadata": {
  "language_info": {
   "name": "python"
  }
 },
 "nbformat": 4,
 "nbformat_minor": 5
}
